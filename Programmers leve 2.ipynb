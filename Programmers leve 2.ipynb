{
 "cells": [
  {
   "cell_type": "markdown",
   "id": "4e3d783e",
   "metadata": {},
   "source": [
    "## 문자열 압축"
   ]
  },
  {
   "cell_type": "code",
   "execution_count": 42,
   "id": "7dfbaf2f",
   "metadata": {
    "scrolled": true
   },
   "outputs": [
    {
     "data": {
      "text/plain": [
       "8"
      ]
     },
     "execution_count": 42,
     "metadata": {},
     "output_type": "execute_result"
    }
   ],
   "source": [
    "def solution(s):\n",
    "    ans = len(s)\n",
    "    for i in range(1,len(s)):\n",
    "        if (len(s)%i ==0 ):\n",
    "            tmp = []\n",
    "            s_tmp = \"\"\n",
    "            for j in range(0,len(s),i):\n",
    "                tmp.append(s[j:j+i])\n",
    "        \n",
    "            f=0\n",
    "            c=0\n",
    "        \n",
    "            for i in range(len(tmp)):\n",
    "                if tmp[f] == tmp[i]:\n",
    "                    c +=1\n",
    "                else:\n",
    "                    if c == 1:\n",
    "                        s_tmp += tmp[f]\n",
    "                    else:\n",
    "                        s_tmp += str(c)+tmp[f] \n",
    "                    f = i\n",
    "                    c = 1\n",
    "            \n",
    "                if i == len(tmp)-1:\n",
    "                    if c == 1:\n",
    "                        s_tmp += tmp[f]\n",
    "                    else:\n",
    "                        s_tmp += str(c)+tmp[f] \n",
    "\n",
    "            if len(s_tmp) < ans:\n",
    "                ans = len(s_tmp)\n",
    "        \n",
    "        else:\n",
    "            tmp = []\n",
    "            s_tmp = \"\"\n",
    "            for j in range(0,len(s),i):\n",
    "                if j+i <= len(s)-1:\n",
    "                    tmp.append(s[j:j+i])\n",
    "                else:\n",
    "                    tmp.append(s[j:len(s)])\n",
    "            \n",
    "            f=0\n",
    "            c=0\n",
    "        \n",
    "            for i in range(len(tmp)):\n",
    "                if tmp[f] == tmp[i]:\n",
    "                    c +=1\n",
    "                else:\n",
    "                    if c == 1:\n",
    "                        s_tmp += tmp[f]\n",
    "                    else:\n",
    "                        s_tmp += str(c)+tmp[f] \n",
    "                    f = i\n",
    "                    c = 1\n",
    "            \n",
    "                if i == len(tmp)-1:\n",
    "                    if c == 1:\n",
    "                        s_tmp += tmp[f]\n",
    "                    else:\n",
    "                        s_tmp += str(c)+tmp[f] \n",
    "\n",
    "            if len(s_tmp) < ans:\n",
    "                ans = len(s_tmp)\n",
    "                \n",
    "    return ans\n",
    "\n",
    "solution(\"abcabcdede\")"
   ]
  },
  {
   "cell_type": "markdown",
   "id": "c9a7dd49",
   "metadata": {},
   "source": [
    "## 멀쩡한 사각형"
   ]
  },
  {
   "cell_type": "code",
   "execution_count": 1,
   "id": "79abdcf2",
   "metadata": {},
   "outputs": [],
   "source": [
    "from math import gcd\n",
    "def solution(w,h):\n",
    "    t = w*h\n",
    "    a = gcd(w,h)\n",
    "    b = w//a\n",
    "    c = h//a\n",
    "    \n",
    "    return t-(w+h)+a"
   ]
  },
  {
   "cell_type": "markdown",
   "id": "ca5bd34d",
   "metadata": {},
   "source": [
    "## 기능개발"
   ]
  },
  {
   "cell_type": "code",
   "execution_count": 6,
   "id": "df0fed62",
   "metadata": {},
   "outputs": [
    {
     "name": "stdout",
     "output_type": "stream",
     "text": [
      "[9, 3, 7]\n"
     ]
    },
    {
     "data": {
      "text/plain": [
       "[2, 1]"
      ]
     },
     "execution_count": 6,
     "metadata": {},
     "output_type": "execute_result"
    }
   ],
   "source": [
    "def solution(progresses, speeds):\n",
    "    tmp = []\n",
    "    answer = []\n",
    "    for i in range(len(speeds)-1,-1,-1):\n",
    "        a = progresses[i]\n",
    "        count = 0 \n",
    "        \n",
    "        while(a<100):\n",
    "            a += speeds[i]\n",
    "            count +=1\n",
    "            \n",
    "        tmp.append(count)\n",
    "        \n",
    "    print(tmp)\n",
    "    \n",
    "    while(len(tmp) !=0):\n",
    "        out = tmp.pop()\n",
    "        c = 1\n",
    "        \n",
    "        if len(tmp) != 0:\n",
    "            while(tmp[-1] <= out):\n",
    "                tmp.pop()\n",
    "                c +=1\n",
    "                if len(tmp) ==0:\n",
    "                    break\n",
    "        answer.append(c)\n",
    "    \n",
    "    return answer\n",
    "\n",
    "solution([93, 30, 55],[1, 30, 5])\n"
   ]
  },
  {
   "cell_type": "markdown",
   "id": "cd4d9047",
   "metadata": {},
   "source": [
    "## 124나라의 숫자"
   ]
  },
  {
   "cell_type": "code",
   "execution_count": 13,
   "id": "5c6dff85",
   "metadata": {},
   "outputs": [
    {
     "name": "stdout",
     "output_type": "stream",
     "text": [
      "142\n"
     ]
    }
   ],
   "source": [
    "def solution(n):\n",
    "    result = []\n",
    "    while n:\n",
    "        t = n % 3\n",
    "        if not t:\n",
    "            t = 3\n",
    "            n -= 1\n",
    "        result.append(str(t))\n",
    "        n //= 3\n",
    "    for i in range(len(result)):\n",
    "        if result[i] == '3':\n",
    "            result[i] = '4'\n",
    "    return ''.join(result[::-1])\n",
    "\n",
    "print(solution(20))"
   ]
  },
  {
   "cell_type": "markdown",
   "id": "b6a2117e",
   "metadata": {},
   "source": [
    "## 타켓 넘버"
   ]
  },
  {
   "cell_type": "code",
   "execution_count": 5,
   "id": "82db9c35",
   "metadata": {},
   "outputs": [
    {
     "ename": "IndexError",
     "evalue": "list index out of range",
     "output_type": "error",
     "traceback": [
      "\u001b[1;31m---------------------------------------------------------------------------\u001b[0m",
      "\u001b[1;31mIndexError\u001b[0m                                Traceback (most recent call last)",
      "\u001b[1;32m~\\AppData\\Local\\Temp/ipykernel_29468/4048343795.py\u001b[0m in \u001b[0;36m<module>\u001b[1;34m\u001b[0m\n\u001b[0;32m     19\u001b[0m     \u001b[1;32mreturn\u001b[0m \u001b[0mresult\u001b[0m\u001b[1;33m\u001b[0m\u001b[1;33m\u001b[0m\u001b[0m\n\u001b[0;32m     20\u001b[0m \u001b[1;33m\u001b[0m\u001b[0m\n\u001b[1;32m---> 21\u001b[1;33m \u001b[0msolution\u001b[0m\u001b[1;33m(\u001b[0m\u001b[1;33m[\u001b[0m\u001b[1;36m1\u001b[0m\u001b[1;33m,\u001b[0m \u001b[1;36m1\u001b[0m\u001b[1;33m,\u001b[0m \u001b[1;36m1\u001b[0m\u001b[1;33m,\u001b[0m \u001b[1;36m1\u001b[0m\u001b[1;33m,\u001b[0m \u001b[1;36m1\u001b[0m\u001b[1;33m]\u001b[0m\u001b[1;33m,\u001b[0m\u001b[1;36m3\u001b[0m\u001b[1;33m)\u001b[0m\u001b[1;33m\u001b[0m\u001b[1;33m\u001b[0m\u001b[0m\n\u001b[0m",
      "\u001b[1;32m~\\AppData\\Local\\Temp/ipykernel_29468/4048343795.py\u001b[0m in \u001b[0;36msolution\u001b[1;34m(numbers, target)\u001b[0m\n\u001b[0;32m     16\u001b[0m                 \u001b[0mresult\u001b[0m \u001b[1;33m+=\u001b[0m\u001b[1;36m1\u001b[0m\u001b[1;33m\u001b[0m\u001b[1;33m\u001b[0m\u001b[0m\n\u001b[0;32m     17\u001b[0m \u001b[1;33m\u001b[0m\u001b[0m\n\u001b[1;32m---> 18\u001b[1;33m     \u001b[0mdfs\u001b[0m\u001b[1;33m(\u001b[0m\u001b[0mnumbers\u001b[0m\u001b[1;33m[\u001b[0m\u001b[1;36m0\u001b[0m\u001b[1;33m]\u001b[0m\u001b[1;33m,\u001b[0m\u001b[1;36m1\u001b[0m\u001b[1;33m)\u001b[0m\u001b[1;33m\u001b[0m\u001b[1;33m\u001b[0m\u001b[0m\n\u001b[0m\u001b[0;32m     19\u001b[0m     \u001b[1;32mreturn\u001b[0m \u001b[0mresult\u001b[0m\u001b[1;33m\u001b[0m\u001b[1;33m\u001b[0m\u001b[0m\n\u001b[0;32m     20\u001b[0m \u001b[1;33m\u001b[0m\u001b[0m\n",
      "\u001b[1;32m~\\AppData\\Local\\Temp/ipykernel_29468/4048343795.py\u001b[0m in \u001b[0;36mdfs\u001b[1;34m(num, level)\u001b[0m\n\u001b[0;32m      6\u001b[0m         \u001b[1;32mif\u001b[0m \u001b[0mlevel\u001b[0m \u001b[1;33m==\u001b[0m \u001b[1;36m1\u001b[0m\u001b[1;33m:\u001b[0m\u001b[1;33m\u001b[0m\u001b[1;33m\u001b[0m\u001b[0m\n\u001b[0;32m      7\u001b[0m             \u001b[1;32mfor\u001b[0m \u001b[0mi\u001b[0m \u001b[1;32min\u001b[0m \u001b[0mrange\u001b[0m\u001b[1;33m(\u001b[0m\u001b[1;36m2\u001b[0m\u001b[1;33m)\u001b[0m\u001b[1;33m:\u001b[0m\u001b[1;33m\u001b[0m\u001b[1;33m\u001b[0m\u001b[0m\n\u001b[1;32m----> 8\u001b[1;33m                 \u001b[0mdfs\u001b[0m\u001b[1;33m(\u001b[0m\u001b[0msigns\u001b[0m\u001b[1;33m[\u001b[0m\u001b[0mi\u001b[0m\u001b[1;33m]\u001b[0m\u001b[1;33m*\u001b[0m\u001b[0mnum\u001b[0m \u001b[1;33m+\u001b[0m \u001b[0mnumbers\u001b[0m\u001b[1;33m[\u001b[0m\u001b[0mlevel\u001b[0m\u001b[1;33m]\u001b[0m\u001b[1;33m,\u001b[0m\u001b[0mlevel\u001b[0m\u001b[1;33m+\u001b[0m\u001b[1;36m1\u001b[0m\u001b[1;33m)\u001b[0m\u001b[1;33m\u001b[0m\u001b[1;33m\u001b[0m\u001b[0m\n\u001b[0m\u001b[0;32m      9\u001b[0m                 \u001b[0mdfs\u001b[0m\u001b[1;33m(\u001b[0m\u001b[0msigns\u001b[0m\u001b[1;33m[\u001b[0m\u001b[0mi\u001b[0m\u001b[1;33m]\u001b[0m\u001b[1;33m*\u001b[0m\u001b[0mnum\u001b[0m \u001b[1;33m-\u001b[0m \u001b[0mnumbers\u001b[0m\u001b[1;33m[\u001b[0m\u001b[0mlevel\u001b[0m\u001b[1;33m]\u001b[0m\u001b[1;33m,\u001b[0m\u001b[0mlevel\u001b[0m\u001b[1;33m+\u001b[0m\u001b[1;36m1\u001b[0m\u001b[1;33m)\u001b[0m\u001b[1;33m\u001b[0m\u001b[1;33m\u001b[0m\u001b[0m\n\u001b[0;32m     10\u001b[0m         \u001b[1;32melse\u001b[0m\u001b[1;33m:\u001b[0m\u001b[1;33m\u001b[0m\u001b[1;33m\u001b[0m\u001b[0m\n",
      "\u001b[1;32m~\\AppData\\Local\\Temp/ipykernel_29468/4048343795.py\u001b[0m in \u001b[0;36mdfs\u001b[1;34m(num, level)\u001b[0m\n\u001b[0;32m      9\u001b[0m                 \u001b[0mdfs\u001b[0m\u001b[1;33m(\u001b[0m\u001b[0msigns\u001b[0m\u001b[1;33m[\u001b[0m\u001b[0mi\u001b[0m\u001b[1;33m]\u001b[0m\u001b[1;33m*\u001b[0m\u001b[0mnum\u001b[0m \u001b[1;33m-\u001b[0m \u001b[0mnumbers\u001b[0m\u001b[1;33m[\u001b[0m\u001b[0mlevel\u001b[0m\u001b[1;33m]\u001b[0m\u001b[1;33m,\u001b[0m\u001b[0mlevel\u001b[0m\u001b[1;33m+\u001b[0m\u001b[1;36m1\u001b[0m\u001b[1;33m)\u001b[0m\u001b[1;33m\u001b[0m\u001b[1;33m\u001b[0m\u001b[0m\n\u001b[0;32m     10\u001b[0m         \u001b[1;32melse\u001b[0m\u001b[1;33m:\u001b[0m\u001b[1;33m\u001b[0m\u001b[1;33m\u001b[0m\u001b[0m\n\u001b[1;32m---> 11\u001b[1;33m             \u001b[0mdfs\u001b[0m\u001b[1;33m(\u001b[0m\u001b[0mnum\u001b[0m \u001b[1;33m+\u001b[0m \u001b[0mnumbers\u001b[0m\u001b[1;33m[\u001b[0m\u001b[0mlevel\u001b[0m\u001b[1;33m]\u001b[0m\u001b[1;33m,\u001b[0m\u001b[0mlevel\u001b[0m\u001b[1;33m+\u001b[0m\u001b[1;36m1\u001b[0m\u001b[1;33m)\u001b[0m\u001b[1;33m\u001b[0m\u001b[1;33m\u001b[0m\u001b[0m\n\u001b[0m\u001b[0;32m     12\u001b[0m             \u001b[0mdfs\u001b[0m\u001b[1;33m(\u001b[0m\u001b[0mnum\u001b[0m \u001b[1;33m-\u001b[0m \u001b[0mnumbers\u001b[0m\u001b[1;33m[\u001b[0m\u001b[0mlevel\u001b[0m\u001b[1;33m]\u001b[0m\u001b[1;33m,\u001b[0m\u001b[0mlevel\u001b[0m\u001b[1;33m+\u001b[0m\u001b[1;36m1\u001b[0m\u001b[1;33m)\u001b[0m\u001b[1;33m\u001b[0m\u001b[1;33m\u001b[0m\u001b[0m\n\u001b[0;32m     13\u001b[0m \u001b[1;33m\u001b[0m\u001b[0m\n",
      "\u001b[1;32m~\\AppData\\Local\\Temp/ipykernel_29468/4048343795.py\u001b[0m in \u001b[0;36mdfs\u001b[1;34m(num, level)\u001b[0m\n\u001b[0;32m      9\u001b[0m                 \u001b[0mdfs\u001b[0m\u001b[1;33m(\u001b[0m\u001b[0msigns\u001b[0m\u001b[1;33m[\u001b[0m\u001b[0mi\u001b[0m\u001b[1;33m]\u001b[0m\u001b[1;33m*\u001b[0m\u001b[0mnum\u001b[0m \u001b[1;33m-\u001b[0m \u001b[0mnumbers\u001b[0m\u001b[1;33m[\u001b[0m\u001b[0mlevel\u001b[0m\u001b[1;33m]\u001b[0m\u001b[1;33m,\u001b[0m\u001b[0mlevel\u001b[0m\u001b[1;33m+\u001b[0m\u001b[1;36m1\u001b[0m\u001b[1;33m)\u001b[0m\u001b[1;33m\u001b[0m\u001b[1;33m\u001b[0m\u001b[0m\n\u001b[0;32m     10\u001b[0m         \u001b[1;32melse\u001b[0m\u001b[1;33m:\u001b[0m\u001b[1;33m\u001b[0m\u001b[1;33m\u001b[0m\u001b[0m\n\u001b[1;32m---> 11\u001b[1;33m             \u001b[0mdfs\u001b[0m\u001b[1;33m(\u001b[0m\u001b[0mnum\u001b[0m \u001b[1;33m+\u001b[0m \u001b[0mnumbers\u001b[0m\u001b[1;33m[\u001b[0m\u001b[0mlevel\u001b[0m\u001b[1;33m]\u001b[0m\u001b[1;33m,\u001b[0m\u001b[0mlevel\u001b[0m\u001b[1;33m+\u001b[0m\u001b[1;36m1\u001b[0m\u001b[1;33m)\u001b[0m\u001b[1;33m\u001b[0m\u001b[1;33m\u001b[0m\u001b[0m\n\u001b[0m\u001b[0;32m     12\u001b[0m             \u001b[0mdfs\u001b[0m\u001b[1;33m(\u001b[0m\u001b[0mnum\u001b[0m \u001b[1;33m-\u001b[0m \u001b[0mnumbers\u001b[0m\u001b[1;33m[\u001b[0m\u001b[0mlevel\u001b[0m\u001b[1;33m]\u001b[0m\u001b[1;33m,\u001b[0m\u001b[0mlevel\u001b[0m\u001b[1;33m+\u001b[0m\u001b[1;36m1\u001b[0m\u001b[1;33m)\u001b[0m\u001b[1;33m\u001b[0m\u001b[1;33m\u001b[0m\u001b[0m\n\u001b[0;32m     13\u001b[0m \u001b[1;33m\u001b[0m\u001b[0m\n",
      "\u001b[1;32m~\\AppData\\Local\\Temp/ipykernel_29468/4048343795.py\u001b[0m in \u001b[0;36mdfs\u001b[1;34m(num, level)\u001b[0m\n\u001b[0;32m      9\u001b[0m                 \u001b[0mdfs\u001b[0m\u001b[1;33m(\u001b[0m\u001b[0msigns\u001b[0m\u001b[1;33m[\u001b[0m\u001b[0mi\u001b[0m\u001b[1;33m]\u001b[0m\u001b[1;33m*\u001b[0m\u001b[0mnum\u001b[0m \u001b[1;33m-\u001b[0m \u001b[0mnumbers\u001b[0m\u001b[1;33m[\u001b[0m\u001b[0mlevel\u001b[0m\u001b[1;33m]\u001b[0m\u001b[1;33m,\u001b[0m\u001b[0mlevel\u001b[0m\u001b[1;33m+\u001b[0m\u001b[1;36m1\u001b[0m\u001b[1;33m)\u001b[0m\u001b[1;33m\u001b[0m\u001b[1;33m\u001b[0m\u001b[0m\n\u001b[0;32m     10\u001b[0m         \u001b[1;32melse\u001b[0m\u001b[1;33m:\u001b[0m\u001b[1;33m\u001b[0m\u001b[1;33m\u001b[0m\u001b[0m\n\u001b[1;32m---> 11\u001b[1;33m             \u001b[0mdfs\u001b[0m\u001b[1;33m(\u001b[0m\u001b[0mnum\u001b[0m \u001b[1;33m+\u001b[0m \u001b[0mnumbers\u001b[0m\u001b[1;33m[\u001b[0m\u001b[0mlevel\u001b[0m\u001b[1;33m]\u001b[0m\u001b[1;33m,\u001b[0m\u001b[0mlevel\u001b[0m\u001b[1;33m+\u001b[0m\u001b[1;36m1\u001b[0m\u001b[1;33m)\u001b[0m\u001b[1;33m\u001b[0m\u001b[1;33m\u001b[0m\u001b[0m\n\u001b[0m\u001b[0;32m     12\u001b[0m             \u001b[0mdfs\u001b[0m\u001b[1;33m(\u001b[0m\u001b[0mnum\u001b[0m \u001b[1;33m-\u001b[0m \u001b[0mnumbers\u001b[0m\u001b[1;33m[\u001b[0m\u001b[0mlevel\u001b[0m\u001b[1;33m]\u001b[0m\u001b[1;33m,\u001b[0m\u001b[0mlevel\u001b[0m\u001b[1;33m+\u001b[0m\u001b[1;36m1\u001b[0m\u001b[1;33m)\u001b[0m\u001b[1;33m\u001b[0m\u001b[1;33m\u001b[0m\u001b[0m\n\u001b[0;32m     13\u001b[0m \u001b[1;33m\u001b[0m\u001b[0m\n",
      "\u001b[1;32m~\\AppData\\Local\\Temp/ipykernel_29468/4048343795.py\u001b[0m in \u001b[0;36mdfs\u001b[1;34m(num, level)\u001b[0m\n\u001b[0;32m      9\u001b[0m                 \u001b[0mdfs\u001b[0m\u001b[1;33m(\u001b[0m\u001b[0msigns\u001b[0m\u001b[1;33m[\u001b[0m\u001b[0mi\u001b[0m\u001b[1;33m]\u001b[0m\u001b[1;33m*\u001b[0m\u001b[0mnum\u001b[0m \u001b[1;33m-\u001b[0m \u001b[0mnumbers\u001b[0m\u001b[1;33m[\u001b[0m\u001b[0mlevel\u001b[0m\u001b[1;33m]\u001b[0m\u001b[1;33m,\u001b[0m\u001b[0mlevel\u001b[0m\u001b[1;33m+\u001b[0m\u001b[1;36m1\u001b[0m\u001b[1;33m)\u001b[0m\u001b[1;33m\u001b[0m\u001b[1;33m\u001b[0m\u001b[0m\n\u001b[0;32m     10\u001b[0m         \u001b[1;32melse\u001b[0m\u001b[1;33m:\u001b[0m\u001b[1;33m\u001b[0m\u001b[1;33m\u001b[0m\u001b[0m\n\u001b[1;32m---> 11\u001b[1;33m             \u001b[0mdfs\u001b[0m\u001b[1;33m(\u001b[0m\u001b[0mnum\u001b[0m \u001b[1;33m+\u001b[0m \u001b[0mnumbers\u001b[0m\u001b[1;33m[\u001b[0m\u001b[0mlevel\u001b[0m\u001b[1;33m]\u001b[0m\u001b[1;33m,\u001b[0m\u001b[0mlevel\u001b[0m\u001b[1;33m+\u001b[0m\u001b[1;36m1\u001b[0m\u001b[1;33m)\u001b[0m\u001b[1;33m\u001b[0m\u001b[1;33m\u001b[0m\u001b[0m\n\u001b[0m\u001b[0;32m     12\u001b[0m             \u001b[0mdfs\u001b[0m\u001b[1;33m(\u001b[0m\u001b[0mnum\u001b[0m \u001b[1;33m-\u001b[0m \u001b[0mnumbers\u001b[0m\u001b[1;33m[\u001b[0m\u001b[0mlevel\u001b[0m\u001b[1;33m]\u001b[0m\u001b[1;33m,\u001b[0m\u001b[0mlevel\u001b[0m\u001b[1;33m+\u001b[0m\u001b[1;36m1\u001b[0m\u001b[1;33m)\u001b[0m\u001b[1;33m\u001b[0m\u001b[1;33m\u001b[0m\u001b[0m\n\u001b[0;32m     13\u001b[0m \u001b[1;33m\u001b[0m\u001b[0m\n",
      "\u001b[1;31mIndexError\u001b[0m: list index out of range"
     ]
    }
   ],
   "source": [
    "def solution(numbers, target):\n",
    "    result = 0\n",
    "    def dfs(num, level):\n",
    "        nonlocal result\n",
    "        signs = [-1,1]\n",
    "        if level == 1:\n",
    "            for i in range(2):\n",
    "                dfs(signs[i]*num + numbers[level],level+1)\n",
    "                dfs(signs[i]*num - numbers[level],level+1)\n",
    "        else:\n",
    "            dfs(num + numbers[level],level+1)\n",
    "            dfs(num - numbers[level],level+1)\n",
    "            \n",
    "        if level == len(numbers):\n",
    "            if num == target:\n",
    "                result +=1\n",
    "\n",
    "    dfs(numbers[0],1)\n",
    "    return result\n",
    "\n",
    "solution([1, 1, 1, 1, 1],3)"
   ]
  }
 ],
 "metadata": {
  "kernelspec": {
   "display_name": "Python 3 (ipykernel)",
   "language": "python",
   "name": "python3"
  },
  "language_info": {
   "codemirror_mode": {
    "name": "ipython",
    "version": 3
   },
   "file_extension": ".py",
   "mimetype": "text/x-python",
   "name": "python",
   "nbconvert_exporter": "python",
   "pygments_lexer": "ipython3",
   "version": "3.9.7"
  }
 },
 "nbformat": 4,
 "nbformat_minor": 5
}
