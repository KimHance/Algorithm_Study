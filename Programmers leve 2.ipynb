{
 "cells": [
  {
   "cell_type": "markdown",
   "id": "4e3d783e",
   "metadata": {},
   "source": [
    "## 문자열 압축"
   ]
  },
  {
   "cell_type": "code",
   "execution_count": 42,
   "id": "7dfbaf2f",
   "metadata": {
    "scrolled": true
   },
   "outputs": [
    {
     "data": {
      "text/plain": [
       "8"
      ]
     },
     "execution_count": 42,
     "metadata": {},
     "output_type": "execute_result"
    }
   ],
   "source": [
    "def solution(s):\n",
    "    ans = len(s)\n",
    "    for i in range(1,len(s)):\n",
    "        if (len(s)%i ==0 ):\n",
    "            tmp = []\n",
    "            s_tmp = \"\"\n",
    "            for j in range(0,len(s),i):\n",
    "                tmp.append(s[j:j+i])\n",
    "        \n",
    "            f=0\n",
    "            c=0\n",
    "        \n",
    "            for i in range(len(tmp)):\n",
    "                if tmp[f] == tmp[i]:\n",
    "                    c +=1\n",
    "                else:\n",
    "                    if c == 1:\n",
    "                        s_tmp += tmp[f]\n",
    "                    else:\n",
    "                        s_tmp += str(c)+tmp[f] \n",
    "                    f = i\n",
    "                    c = 1\n",
    "            \n",
    "                if i == len(tmp)-1:\n",
    "                    if c == 1:\n",
    "                        s_tmp += tmp[f]\n",
    "                    else:\n",
    "                        s_tmp += str(c)+tmp[f] \n",
    "\n",
    "            if len(s_tmp) < ans:\n",
    "                ans = len(s_tmp)\n",
    "        \n",
    "        else:\n",
    "            tmp = []\n",
    "            s_tmp = \"\"\n",
    "            for j in range(0,len(s),i):\n",
    "                if j+i <= len(s)-1:\n",
    "                    tmp.append(s[j:j+i])\n",
    "                else:\n",
    "                    tmp.append(s[j:len(s)])\n",
    "            \n",
    "            f=0\n",
    "            c=0\n",
    "        \n",
    "            for i in range(len(tmp)):\n",
    "                if tmp[f] == tmp[i]:\n",
    "                    c +=1\n",
    "                else:\n",
    "                    if c == 1:\n",
    "                        s_tmp += tmp[f]\n",
    "                    else:\n",
    "                        s_tmp += str(c)+tmp[f] \n",
    "                    f = i\n",
    "                    c = 1\n",
    "            \n",
    "                if i == len(tmp)-1:\n",
    "                    if c == 1:\n",
    "                        s_tmp += tmp[f]\n",
    "                    else:\n",
    "                        s_tmp += str(c)+tmp[f] \n",
    "\n",
    "            if len(s_tmp) < ans:\n",
    "                ans = len(s_tmp)\n",
    "                \n",
    "    return ans\n",
    "\n",
    "solution(\"abcabcdede\")"
   ]
  },
  {
   "cell_type": "markdown",
   "id": "c9a7dd49",
   "metadata": {},
   "source": [
    "## 멀쩡한 사각형"
   ]
  },
  {
   "cell_type": "code",
   "execution_count": 1,
   "id": "79abdcf2",
   "metadata": {},
   "outputs": [],
   "source": [
    "from math import gcd\n",
    "def solution(w,h):\n",
    "    t = w*h\n",
    "    a = gcd(w,h)\n",
    "    b = w//a\n",
    "    c = h//a\n",
    "    \n",
    "    return t-(w+h)+a"
   ]
  },
  {
   "cell_type": "markdown",
   "id": "ca5bd34d",
   "metadata": {},
   "source": [
    "## 기능개발"
   ]
  },
  {
   "cell_type": "code",
   "execution_count": 6,
   "id": "df0fed62",
   "metadata": {},
   "outputs": [
    {
     "name": "stdout",
     "output_type": "stream",
     "text": [
      "[9, 3, 7]\n"
     ]
    },
    {
     "data": {
      "text/plain": [
       "[2, 1]"
      ]
     },
     "execution_count": 6,
     "metadata": {},
     "output_type": "execute_result"
    }
   ],
   "source": [
    "def solution(progresses, speeds):\n",
    "    tmp = []\n",
    "    answer = []\n",
    "    for i in range(len(speeds)-1,-1,-1):\n",
    "        a = progresses[i]\n",
    "        count = 0 \n",
    "        \n",
    "        while(a<100):\n",
    "            a += speeds[i]\n",
    "            count +=1\n",
    "            \n",
    "        tmp.append(count)\n",
    "        \n",
    "    print(tmp)\n",
    "    \n",
    "    while(len(tmp) !=0):\n",
    "        out = tmp.pop()\n",
    "        c = 1\n",
    "        \n",
    "        if len(tmp) != 0:\n",
    "            while(tmp[-1] <= out):\n",
    "                tmp.pop()\n",
    "                c +=1\n",
    "                if len(tmp) ==0:\n",
    "                    break\n",
    "        answer.append(c)\n",
    "    \n",
    "    return answer\n",
    "\n",
    "solution([93, 30, 55],[1, 30, 5])\n"
   ]
  },
  {
   "cell_type": "markdown",
   "id": "cd4d9047",
   "metadata": {},
   "source": [
    "## 124나라의 숫자"
   ]
  },
  {
   "cell_type": "code",
   "execution_count": 13,
   "id": "5c6dff85",
   "metadata": {},
   "outputs": [
    {
     "name": "stdout",
     "output_type": "stream",
     "text": [
      "142\n"
     ]
    }
   ],
   "source": [
    "def solution(n):\n",
    "    result = []\n",
    "    while n:\n",
    "        t = n % 3\n",
    "        if not t:\n",
    "            t = 3\n",
    "            n -= 1\n",
    "        result.append(str(t))\n",
    "        n //= 3\n",
    "    for i in range(len(result)):\n",
    "        if result[i] == '3':\n",
    "            result[i] = '4'\n",
    "    return ''.join(result[::-1])\n",
    "\n",
    "print(solution(20))"
   ]
  },
  {
   "cell_type": "markdown",
   "id": "b6a2117e",
   "metadata": {},
   "source": [
    "## 타켓 넘버"
   ]
  },
  {
   "cell_type": "code",
   "execution_count": 25,
   "id": "82db9c35",
   "metadata": {},
   "outputs": [
    {
     "data": {
      "text/plain": [
       "5"
      ]
     },
     "execution_count": 25,
     "metadata": {},
     "output_type": "execute_result"
    }
   ],
   "source": [
    "def solution(numbers, target):\n",
    "    result = 0\n",
    "    \n",
    "    def dfs(num, level):\n",
    "    \n",
    "        nonlocal result\n",
    "        signs = [-1,1]\n",
    "        \n",
    "      \n",
    "        \n",
    "        if level == 1:\n",
    "            for i in range(2):\n",
    "                dfs(signs[i]*num + numbers[level],level+1)\n",
    "                dfs(signs[i]*num - numbers[level],level+1)\n",
    "        else:\n",
    "            if level == len(numbers):\n",
    "                if num == target:\n",
    "                    result +=1\n",
    "                return\n",
    "            dfs(num + numbers[level],level+1)\n",
    "            dfs(num - numbers[level],level+1)\n",
    "            \n",
    "    dfs(numbers[0],1)\n",
    "    return result\n",
    "\n",
    "solution([1, 1, 1, 1, 1],3)"
   ]
  },
  {
   "cell_type": "markdown",
   "id": "5832fa9f",
   "metadata": {},
   "source": [
    "## 가장 큰수"
   ]
  },
  {
   "cell_type": "code",
   "execution_count": 20,
   "id": "9e36c636",
   "metadata": {},
   "outputs": [
    {
     "data": {
      "text/plain": [
       "'6210'"
      ]
     },
     "execution_count": 20,
     "metadata": {},
     "output_type": "execute_result"
    }
   ],
   "source": [
    "# from itertools import permutations\n",
    "def solution(numbers):\n",
    "    # permutation 은 빅오가 커서 부적합\n",
    "#     pm = list(permutations(numbers,len(numbers)))\n",
    "#     answer = '0'\n",
    "#     for per in pm:\n",
    "#         tmp = ''\n",
    "#         for i in per:\n",
    "#             tmp += str(i)\n",
    "#         if (int(tmp) >= int(answer)):\n",
    "#             answer = tmp\n",
    "#     return answer\n",
    "    \n",
    "    # 첫째 자리 비교하며 4자리 채움\n",
    "    ans = \"\"\n",
    "    sum_= 0  #0000예외 케이스 비교 위해\n",
    "    tmp = []\n",
    "    \n",
    "    for num in numbers:\n",
    "        c = (str(num)*4)[:4] #4자리 까지 \n",
    "        length = len(str(num))\n",
    "        tmp.append((c,length))\n",
    "    tmp.sort(reverse=True) #문자열 내림차순 정렬(앞자리만 비교)\n",
    "    \n",
    "    for (c,length) in tmp:\n",
    "        sum_ += int(c)\n",
    "        if sum_ == 0:\n",
    "            return '0'\n",
    "        ans += c[:length]\n",
    "    return ans\n",
    "    \n",
    "\n",
    "\n",
    "solution([6, 10, 2])\n"
   ]
  },
  {
   "cell_type": "code",
   "execution_count": null,
   "id": "dc7d1b58",
   "metadata": {},
   "outputs": [],
   "source": []
  }
 ],
 "metadata": {
  "kernelspec": {
   "display_name": "Python 3 (ipykernel)",
   "language": "python",
   "name": "python3"
  },
  "language_info": {
   "codemirror_mode": {
    "name": "ipython",
    "version": 3
   },
   "file_extension": ".py",
   "mimetype": "text/x-python",
   "name": "python",
   "nbconvert_exporter": "python",
   "pygments_lexer": "ipython3",
   "version": "3.9.7"
  }
 },
 "nbformat": 4,
 "nbformat_minor": 5
}
