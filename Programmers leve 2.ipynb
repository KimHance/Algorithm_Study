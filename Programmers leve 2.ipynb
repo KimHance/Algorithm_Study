{
 "cells": [
  {
   "cell_type": "markdown",
   "id": "4e3d783e",
   "metadata": {},
   "source": [
    "## 문자열 압축"
   ]
  },
  {
   "cell_type": "code",
   "execution_count": null,
   "id": "7dfbaf2f",
   "metadata": {
    "scrolled": true
   },
   "outputs": [],
   "source": [
    "def solution(s):\n",
    "    ans = len(s)\n",
    "    for i in range(1,len(s)):\n",
    "        if (len(s)%i ==0 ):\n",
    "            tmp = []\n",
    "            s_tmp = \"\"\n",
    "            for j in range(0,len(s),i):\n",
    "                tmp.append(s[j:j+i])\n",
    "        \n",
    "            f=0\n",
    "            c=0\n",
    "        \n",
    "            for i in range(len(tmp)):\n",
    "                if tmp[f] == tmp[i]:\n",
    "                    c +=1\n",
    "                else:\n",
    "                    if c == 1:\n",
    "                        s_tmp += tmp[f]\n",
    "                    else:\n",
    "                        s_tmp += str(c)+tmp[f] \n",
    "                    f = i\n",
    "                    c = 1\n",
    "            \n",
    "                if i == len(tmp)-1:\n",
    "                    if c == 1:\n",
    "                        s_tmp += tmp[f]\n",
    "                    else:\n",
    "                        s_tmp += str(c)+tmp[f] \n",
    "\n",
    "            if len(s_tmp) < ans:\n",
    "                ans = len(s_tmp)\n",
    "        \n",
    "        else:\n",
    "            tmp = []\n",
    "            s_tmp = \"\"\n",
    "            for j in range(0,len(s),i):\n",
    "                if j+i <= len(s)-1:\n",
    "                    tmp.append(s[j:j+i])\n",
    "                else:\n",
    "                    tmp.append(s[j:len(s)])\n",
    "            \n",
    "            f=0\n",
    "            c=0\n",
    "        \n",
    "            for i in range(len(tmp)):\n",
    "                if tmp[f] == tmp[i]:\n",
    "                    c +=1\n",
    "                else:\n",
    "                    if c == 1:\n",
    "                        s_tmp += tmp[f]\n",
    "                    else:\n",
    "                        s_tmp += str(c)+tmp[f] \n",
    "                    f = i\n",
    "                    c = 1\n",
    "            \n",
    "                if i == len(tmp)-1:\n",
    "                    if c == 1:\n",
    "                        s_tmp += tmp[f]\n",
    "                    else:\n",
    "                        s_tmp += str(c)+tmp[f] \n",
    "\n",
    "            if len(s_tmp) < ans:\n",
    "                ans = len(s_tmp)\n",
    "                \n",
    "    return ans\n",
    "\n",
    "solution(\"abcabcdede\")"
   ]
  },
  {
   "cell_type": "markdown",
   "id": "c9a7dd49",
   "metadata": {},
   "source": [
    "## 멀쩡한 사각형"
   ]
  },
  {
   "cell_type": "code",
   "execution_count": null,
   "id": "79abdcf2",
   "metadata": {},
   "outputs": [],
   "source": [
    "from math import gcd\n",
    "def solution(w,h):\n",
    "    t = w*h\n",
    "    a = gcd(w,h)\n",
    "    b = w//a\n",
    "    c = h//a\n",
    "    \n",
    "    return t-(w+h)+a"
   ]
  },
  {
   "cell_type": "markdown",
   "id": "ca5bd34d",
   "metadata": {},
   "source": [
    "## 기능개발"
   ]
  },
  {
   "cell_type": "code",
   "execution_count": null,
   "id": "df0fed62",
   "metadata": {},
   "outputs": [],
   "source": [
    "def solution(progresses, speeds):\n",
    "    tmp = []\n",
    "    answer = []\n",
    "    for i in range(len(speeds)-1,-1,-1):\n",
    "        a = progresses[i]\n",
    "        count = 0 \n",
    "        \n",
    "        while(a<100):\n",
    "            a += speeds[i]\n",
    "            count +=1\n",
    "            \n",
    "        tmp.append(count)\n",
    "        \n",
    "    print(tmp)\n",
    "    \n",
    "    while(len(tmp) !=0):\n",
    "        out = tmp.pop()\n",
    "        c = 1\n",
    "        \n",
    "        if len(tmp) != 0:\n",
    "            while(tmp[-1] <= out):\n",
    "                tmp.pop()\n",
    "                c +=1\n",
    "                if len(tmp) ==0:\n",
    "                    break\n",
    "        answer.append(c)\n",
    "    \n",
    "    return answer\n",
    "\n",
    "solution([93, 30, 55],[1, 30, 5])\n"
   ]
  },
  {
   "cell_type": "markdown",
   "id": "cd4d9047",
   "metadata": {},
   "source": [
    "## 124나라의 숫자"
   ]
  },
  {
   "cell_type": "code",
   "execution_count": null,
   "id": "5c6dff85",
   "metadata": {},
   "outputs": [],
   "source": [
    "def solution(n):\n",
    "    result = []\n",
    "    while n:\n",
    "        t = n % 3\n",
    "        if not t:\n",
    "            t = 3\n",
    "            n -= 1\n",
    "        result.append(str(t))\n",
    "        n //= 3\n",
    "    for i in range(len(result)):\n",
    "        if result[i] == '3':\n",
    "            result[i] = '4'\n",
    "    return ''.join(result[::-1])\n",
    "\n",
    "print(solution(20))"
   ]
  },
  {
   "cell_type": "markdown",
   "id": "b6a2117e",
   "metadata": {},
   "source": [
    "## 타켓 넘버"
   ]
  },
  {
   "cell_type": "code",
   "execution_count": null,
   "id": "82db9c35",
   "metadata": {},
   "outputs": [],
   "source": [
    "def solution(numbers, target):\n",
    "    result = 0\n",
    "    \n",
    "    def dfs(num, level):\n",
    "    \n",
    "        nonlocal result\n",
    "        signs = [-1,1]\n",
    "        \n",
    "      \n",
    "        \n",
    "        if level == 1:\n",
    "            for i in range(2):\n",
    "                dfs(signs[i]*num + numbers[level],level+1)\n",
    "                dfs(signs[i]*num - numbers[level],level+1)\n",
    "        else:\n",
    "            if level == len(numbers):\n",
    "                if num == target:\n",
    "                    result +=1\n",
    "                return\n",
    "            dfs(num + numbers[level],level+1)\n",
    "            dfs(num - numbers[level],level+1)\n",
    "            \n",
    "    dfs(numbers[0],1)\n",
    "    return result\n",
    "\n",
    "solution([1, 1, 1, 1, 1],3)"
   ]
  },
  {
   "cell_type": "markdown",
   "id": "5832fa9f",
   "metadata": {},
   "source": [
    "## 가장 큰수"
   ]
  },
  {
   "cell_type": "code",
   "execution_count": null,
   "id": "9e36c636",
   "metadata": {},
   "outputs": [],
   "source": [
    "# from itertools import permutations\n",
    "def solution(numbers):\n",
    "    # permutation 은 빅오가 커서 부적합\n",
    "#     pm = list(permutations(numbers,len(numbers)))\n",
    "#     answer = '0'\n",
    "#     for per in pm:\n",
    "#         tmp = ''\n",
    "#         for i in per:\n",
    "#             tmp += str(i)\n",
    "#         if (int(tmp) >= int(answer)):\n",
    "#             answer = tmp\n",
    "#     return answer\n",
    "    \n",
    "    # 첫째 자리 비교하며 4자리 채움\n",
    "    ans = \"\"\n",
    "    sum_= 0  #0000예외 케이스 비교 위해\n",
    "    tmp = []\n",
    "    \n",
    "    for num in numbers:\n",
    "        c = (str(num)*4)[:4] #4자리 까지 \n",
    "        length = len(str(num))\n",
    "        tmp.append((c,length))\n",
    "    tmp.sort(reverse=True) #문자열 내림차순 정렬(앞자리만 비교)\n",
    "    \n",
    "    for (c,length) in tmp:\n",
    "        sum_ += int(c)\n",
    "        if sum_ == 0:\n",
    "            return '0'\n",
    "        ans += c[:length]\n",
    "    return ans\n",
    "    \n",
    "\n",
    "\n",
    "solution([6, 10, 2])\n"
   ]
  },
  {
   "cell_type": "markdown",
   "id": "334d8185",
   "metadata": {},
   "source": [
    "## 전화번호 목록"
   ]
  },
  {
   "cell_type": "code",
   "execution_count": null,
   "id": "64122e50",
   "metadata": {},
   "outputs": [],
   "source": [
    "def solution(phone_book):\n",
    "    answer = True\n",
    "    \n",
    "    num = [{} for _ in range(20)]\n",
    "    \n",
    "    for number  in phone_book:\n",
    "        num[len(number)-1][number]=True\n",
    "        \n",
    "    for nums in phone_book:\n",
    "        for i in range(len(nums)-1):\n",
    "            try:\n",
    "                if num[i][nums[:(i+1)]]:\n",
    "                    answer=False\n",
    "            except:\n",
    "                pass\n",
    "    return answer\n",
    "\n",
    "solution([\"119\", \"97674223\", \"1195524421\"])"
   ]
  },
  {
   "cell_type": "markdown",
   "id": "97de1b75",
   "metadata": {},
   "source": [
    "## 프린터"
   ]
  },
  {
   "cell_type": "code",
   "execution_count": null,
   "id": "5b981ca1",
   "metadata": {},
   "outputs": [],
   "source": [
    "def solution(priorities, location):\n",
    "    order = []\n",
    "    p = max(priorities)\n",
    "    l = len(priorities)\n",
    "    for i in range(l):\n",
    "        order.append([i,priorities[i]])\n",
    "    \n",
    "    ans = 0\n",
    "    \n",
    "    while(True):\n",
    "        if order[0][1] == p:\n",
    "            ans +=1\n",
    "            k = order.pop(0)\n",
    "            priorities[k[0]] = 0\n",
    "            p = max(priorities)\n",
    "            if k[0] == location:\n",
    "                return ans\n",
    "        else:\n",
    "            k = order.pop(0)\n",
    "            order.append(k)\n",
    "            \n",
    "solution([1, 1, 9, 1, 1, 1],0)"
   ]
  },
  {
   "cell_type": "markdown",
   "id": "d7e081b6",
   "metadata": {},
   "source": [
    "## 소수찾기"
   ]
  },
  {
   "cell_type": "code",
   "execution_count": 1,
   "id": "79b9906e",
   "metadata": {},
   "outputs": [
    {
     "data": {
      "text/plain": [
       "3"
      ]
     },
     "execution_count": 1,
     "metadata": {},
     "output_type": "execute_result"
    }
   ],
   "source": [
    "import math\n",
    "from itertools import permutations as pm\n",
    "\n",
    "def is_Prime(n):\n",
    "    if n == 0 or n == 1:\n",
    "        return False\n",
    "    for i in range(2,int(math.sqrt(n))+1):\n",
    "        if n% i == 0:\n",
    "            return False\n",
    "    return True\n",
    "\n",
    "def solution(numbers):\n",
    "    num_list = []\n",
    "    pm_list = [] \n",
    "    answer = []\n",
    "    for i in numbers:\n",
    "        num_list.append(i)\n",
    "    \n",
    "    for i in num_list:\n",
    "        if is_Prime(int(i)):\n",
    "            if int(i) not in answer:\n",
    "                answer.append(int(i))\n",
    "    \n",
    "    for i in range(2,len(numbers)+1):\n",
    "        tmp = set(pm(num_list,i))\n",
    "        for i in tmp:\n",
    "            num = \"\".join(i)\n",
    "            if is_Prime(int(num)):\n",
    "                if int(num) not in answer:\n",
    "                    answer.append(int(num))\n",
    "        \n",
    "    \n",
    "    return len(answer)\n",
    "\n",
    "solution(\"17\")"
   ]
  },
  {
   "cell_type": "markdown",
   "id": "28141493",
   "metadata": {},
   "source": [
    "## 위장"
   ]
  },
  {
   "cell_type": "code",
   "execution_count": 1,
   "id": "545b4f17",
   "metadata": {},
   "outputs": [
    {
     "name": "stdout",
     "output_type": "stream",
     "text": [
      "headgear\n",
      "eyewear\n"
     ]
    },
    {
     "data": {
      "text/plain": [
       "5"
      ]
     },
     "execution_count": 1,
     "metadata": {},
     "output_type": "execute_result"
    }
   ],
   "source": [
    "def solution(clothes):\n",
    "    c_dic = {}\n",
    "    answer = 0\n",
    "    for l in clothes:\n",
    "        if l[1] not in c_dic:   \n",
    "            c_dic[l[1]]=[l[0]]\n",
    "        else:\n",
    "            c_dic[l[1]].append(l[0])\n",
    "    \n",
    "    category = list(c_dic.keys())\n",
    "\n",
    "    for k in category:\n",
    "        print(k)\n",
    "        if answer == 0:\n",
    "            answer += len(list(c_dic[k]))+1\n",
    "        else:\n",
    "            answer *= len(list(c_dic[k]))+1               \n",
    "            \n",
    "    return answer-1\n",
    "\n",
    "solution([[\"yellowhat\", \"headgear\"], [\"bluesunglasses\", \"eyewear\"], [\"green_turban\", \"headgear\"]])"
   ]
  },
  {
   "cell_type": "markdown",
   "id": "d12c3730",
   "metadata": {},
   "source": [
    "## 주식가격"
   ]
  },
  {
   "cell_type": "code",
   "execution_count": 26,
   "id": "064006db",
   "metadata": {},
   "outputs": [
    {
     "data": {
      "text/plain": [
       "[4, 3, 1, 1, 0]"
      ]
     },
     "execution_count": 26,
     "metadata": {},
     "output_type": "execute_result"
    }
   ],
   "source": [
    "def solution(prices):\n",
    "    answer = []\n",
    "    for i in range(len(prices)):\n",
    "        k = i+1\n",
    "        time = 1\n",
    "        \n",
    "        if k == len(prices):\n",
    "            answer.append(0)\n",
    "            break\n",
    "            \n",
    "        while(prices[k]>=prices[i]):\n",
    "            k +=1\n",
    "            if(k == len(prices)):\n",
    "                break\n",
    "            time += 1\n",
    "                \n",
    "        answer.append(time)\n",
    "        \n",
    "    return answer\n",
    "solution([1, 2, 3, 2, 3])"
   ]
  },
  {
   "cell_type": "markdown",
   "id": "8941dc7a",
   "metadata": {},
   "source": [
    "## 다리를 지나는 트럭"
   ]
  },
  {
   "cell_type": "code",
   "execution_count": 1,
   "id": "6f20bafe",
   "metadata": {},
   "outputs": [],
   "source": [
    "import collections as cs\n",
    "def solution(bridge_length, weight, truck_weights):\n",
    "    answer = 0 \n",
    "    wait = cs.deque(truck_weights)\n",
    "    bridge = cs.deque()\n",
    "    \n",
    "    while len(wait)>0 or len(bridge)>0:\n",
    "        for i in range(len(bridge)):\n",
    "            bridge[i] = (bridge[i][0],bridge[i][1]+1)\n",
    "            \n",
    "        if len(bridge)>0 and bridge[0][1] > bridge_length:\n",
    "            bridge.popleft()\n",
    "        \n",
    "        if len(wait)>0 and weight - bridge_sum(bridge) >= wait[0]:\n",
    "            truck = wait.popleft()\n",
    "            bridge.append((truck,1))\n",
    "        answer +=1\n",
    "    \n",
    "    return answer\n",
    "\n",
    "def bridge_sum(bridge):\n",
    "    s = 0 \n",
    "    if len(bridge) > 0:\n",
    "        for w, t in bridge:\n",
    "            s += w\n",
    "    return s"
   ]
  },
  {
   "cell_type": "markdown",
   "id": "a764bcd6",
   "metadata": {},
   "source": [
    "## 더 맵게"
   ]
  },
  {
   "cell_type": "code",
   "execution_count": 1,
   "id": "ee21c373",
   "metadata": {},
   "outputs": [
    {
     "data": {
      "text/plain": [
       "-1"
      ]
     },
     "execution_count": 1,
     "metadata": {},
     "output_type": "execute_result"
    }
   ],
   "source": [
    "import heapq\n",
    "\n",
    "# 힙 이용방법 연습\n",
    "def solution(scoville, k):\n",
    "    heapq.heapify(scoville)\n",
    "    answer = 0\n",
    "    \n",
    "    while(scoville[0]<=k):\n",
    "        if len(scoville)==1:\n",
    "            return -1\n",
    "        a = heapq.heappop(scoville)\n",
    "        b = heapq.heappop(scoville)\n",
    "        heapq.heappush(scoville,a+b*2)\n",
    "        answer +=1\n",
    "    return answer\n",
    "\n",
    "solution( [1, 1, 1, 1, 1, 1, 1, 1, 1] ,44)"
   ]
  },
  {
   "cell_type": "markdown",
   "id": "0edbbfe2",
   "metadata": {},
   "source": [
    "## 짝지어 제거하기"
   ]
  },
  {
   "cell_type": "code",
   "execution_count": 19,
   "id": "fedfb3fb",
   "metadata": {},
   "outputs": [],
   "source": [
    "def solution(s):\n",
    "    if len(s) == 0: return 1\n",
    "    ans = []\n",
    "    ans.append(s[0])\n",
    "    \n",
    "    for i in range(1,len(s)):\n",
    "        if len(ans) == 0:\n",
    "            ans.append(s[i])\n",
    "            continue\n",
    "        \n",
    "        top = ans[-1]\n",
    "        if top == s[i]:\n",
    "            ans.pop()\n",
    "        else:\n",
    "            ans.append(s[i])\n",
    "    \n",
    "    if(len(ans)==0):\n",
    "        return 1\n",
    "    else:\n",
    "        return 0"
   ]
  }
 ],
 "metadata": {
  "kernelspec": {
   "display_name": "Python 3 (ipykernel)",
   "language": "python",
   "name": "python3"
  },
  "language_info": {
   "codemirror_mode": {
    "name": "ipython",
    "version": 3
   },
   "file_extension": ".py",
   "mimetype": "text/x-python",
   "name": "python",
   "nbconvert_exporter": "python",
   "pygments_lexer": "ipython3",
   "version": "3.9.7"
  }
 },
 "nbformat": 4,
 "nbformat_minor": 5
}
