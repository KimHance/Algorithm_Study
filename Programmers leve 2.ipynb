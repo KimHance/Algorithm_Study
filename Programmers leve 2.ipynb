{
 "cells": [
  {
   "cell_type": "markdown",
   "id": "4e3d783e",
   "metadata": {},
   "source": [
    "## 문자열 압축"
   ]
  },
  {
   "cell_type": "code",
   "execution_count": 42,
   "id": "7dfbaf2f",
   "metadata": {},
   "outputs": [
    {
     "data": {
      "text/plain": [
       "8"
      ]
     },
     "execution_count": 42,
     "metadata": {},
     "output_type": "execute_result"
    }
   ],
   "source": [
    "def solution(s):\n",
    "    ans = len(s)\n",
    "    for i in range(1,len(s)):\n",
    "        if (len(s)%i ==0 ):\n",
    "            tmp = []\n",
    "            s_tmp = \"\"\n",
    "            for j in range(0,len(s),i):\n",
    "                tmp.append(s[j:j+i])\n",
    "        \n",
    "            f=0\n",
    "            c=0\n",
    "        \n",
    "            for i in range(len(tmp)):\n",
    "                if tmp[f] == tmp[i]:\n",
    "                    c +=1\n",
    "                else:\n",
    "                    if c == 1:\n",
    "                        s_tmp += tmp[f]\n",
    "                    else:\n",
    "                        s_tmp += str(c)+tmp[f] \n",
    "                    f = i\n",
    "                    c = 1\n",
    "            \n",
    "                if i == len(tmp)-1:\n",
    "                    if c == 1:\n",
    "                        s_tmp += tmp[f]\n",
    "                    else:\n",
    "                        s_tmp += str(c)+tmp[f] \n",
    "\n",
    "            if len(s_tmp) < ans:\n",
    "                ans = len(s_tmp)\n",
    "        \n",
    "        else:\n",
    "            tmp = []\n",
    "            s_tmp = \"\"\n",
    "            for j in range(0,len(s),i):\n",
    "                if j+i <= len(s)-1:\n",
    "                    tmp.append(s[j:j+i])\n",
    "                else:\n",
    "                    tmp.append(s[j:len(s)])\n",
    "            \n",
    "            f=0\n",
    "            c=0\n",
    "        \n",
    "            for i in range(len(tmp)):\n",
    "                if tmp[f] == tmp[i]:\n",
    "                    c +=1\n",
    "                else:\n",
    "                    if c == 1:\n",
    "                        s_tmp += tmp[f]\n",
    "                    else:\n",
    "                        s_tmp += str(c)+tmp[f] \n",
    "                    f = i\n",
    "                    c = 1\n",
    "            \n",
    "                if i == len(tmp)-1:\n",
    "                    if c == 1:\n",
    "                        s_tmp += tmp[f]\n",
    "                    else:\n",
    "                        s_tmp += str(c)+tmp[f] \n",
    "\n",
    "            if len(s_tmp) < ans:\n",
    "                ans = len(s_tmp)\n",
    "                \n",
    "    return ans\n",
    "\n",
    "solution(\"abcabcdede\")"
   ]
  },
  {
   "cell_type": "code",
   "execution_count": null,
   "id": "652216dc",
   "metadata": {},
   "outputs": [],
   "source": []
  }
 ],
 "metadata": {
  "kernelspec": {
   "display_name": "Python 3 (ipykernel)",
   "language": "python",
   "name": "python3"
  },
  "language_info": {
   "codemirror_mode": {
    "name": "ipython",
    "version": 3
   },
   "file_extension": ".py",
   "mimetype": "text/x-python",
   "name": "python",
   "nbconvert_exporter": "python",
   "pygments_lexer": "ipython3",
   "version": "3.9.7"
  }
 },
 "nbformat": 4,
 "nbformat_minor": 5
}
