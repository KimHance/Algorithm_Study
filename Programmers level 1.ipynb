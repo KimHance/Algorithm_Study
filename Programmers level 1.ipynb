{
 "cells": [
  {
   "cell_type": "markdown",
   "id": "6277b285",
   "metadata": {},
   "source": [
    "## 직사각형 별찍기"
   ]
  },
  {
   "cell_type": "code",
   "execution_count": null,
   "id": "83205a42",
   "metadata": {},
   "outputs": [],
   "source": [
    "a, b = map(int, input().strip().split(' '))\n",
    "s = ('*'*a +'\\n')*b\n",
    "print(s)"
   ]
  },
  {
   "cell_type": "markdown",
   "id": "bb0739dd",
   "metadata": {},
   "source": [
    "## x만큼 간격이 있는 n개의 숫자"
   ]
  },
  {
   "cell_type": "code",
   "execution_count": null,
   "id": "cbeee0c8",
   "metadata": {},
   "outputs": [],
   "source": [
    "def solution(x, n):\n",
    "    answer = []\n",
    "    for i in range(n):\n",
    "        answer.append((i+1)*x)\n",
    "    return answer\n",
    "solution(2,5)"
   ]
  },
  {
   "cell_type": "markdown",
   "id": "b751e793",
   "metadata": {},
   "source": [
    "## 행렬의 덧셈"
   ]
  },
  {
   "cell_type": "code",
   "execution_count": null,
   "id": "19ad9464",
   "metadata": {},
   "outputs": [],
   "source": [
    "import numpy as np\n",
    "def solution(arr1, arr2):\n",
    "    arr1= np.array(arr1)\n",
    "    arr2= np.array(arr2)\n",
    "    answer = arr1+arr2\n",
    "    return answer.tolist()\n",
    "solution([[1,2],[2,3]],[[3,4],[5,6]])"
   ]
  },
  {
   "cell_type": "markdown",
   "id": "74631c8b",
   "metadata": {},
   "source": [
    "## 핸드폰 번호 가리기"
   ]
  },
  {
   "cell_type": "code",
   "execution_count": null,
   "id": "d88f3e0e",
   "metadata": {},
   "outputs": [],
   "source": [
    "def solution(phone_number):\n",
    "    l = len(phone_number[:-4])\n",
    "    answer = ('*'*l)+phone_number[l:]\n",
    "    return answer\n",
    "solution('1234567890')"
   ]
  },
  {
   "cell_type": "markdown",
   "id": "a7fc7587",
   "metadata": {},
   "source": [
    "## 하샤드 수"
   ]
  },
  {
   "cell_type": "code",
   "execution_count": null,
   "id": "ad3ef428",
   "metadata": {},
   "outputs": [],
   "source": [
    "def solution(x):\n",
    "    a = str(x)\n",
    "    sum = 0\n",
    "    for i in range(len(a)):\n",
    "        sum = sum + int(a[i])\n",
    "    if(x%sum == 0 ):\n",
    "        return True\n",
    "    else:\n",
    "        return False\n",
    "    \n",
    "solution(13)"
   ]
  },
  {
   "cell_type": "markdown",
   "id": "ec88e940",
   "metadata": {},
   "source": [
    "## 콜라츠 추측"
   ]
  },
  {
   "cell_type": "code",
   "execution_count": null,
   "id": "7dadeb1a",
   "metadata": {},
   "outputs": [],
   "source": [
    "def solution(num):\n",
    "    answer = 0\n",
    "    while num !=1 :\n",
    "        if(num%2==0):\n",
    "            num = num/2\n",
    "            answer = answer + 1\n",
    "            if(answer>500):\n",
    "                return -1\n",
    "        else:\n",
    "            num = num*3 +1\n",
    "            answer = answer + 1\n",
    "            if(answer>500):\n",
    "                return -1\n",
    "    return answer\n",
    "\n",
    "solution(16)"
   ]
  },
  {
   "cell_type": "markdown",
   "id": "b0c3e922",
   "metadata": {},
   "source": [
    "## 평균 구하기"
   ]
  },
  {
   "cell_type": "code",
   "execution_count": null,
   "id": "0b831316",
   "metadata": {},
   "outputs": [],
   "source": [
    "import numpy as np\n",
    "\n",
    "def solution(arr):\n",
    "    answer = np.mean(arr)\n",
    "    return answer"
   ]
  },
  {
   "cell_type": "markdown",
   "id": "7a0303ee",
   "metadata": {},
   "source": [
    "## 최대공약수와 최소공배수"
   ]
  },
  {
   "cell_type": "code",
   "execution_count": null,
   "id": "c454ac51",
   "metadata": {},
   "outputs": [],
   "source": [
    "from math import gcd\n",
    "\n",
    "def solution(n, m):\n",
    "    gcdNum = gcd(n,m)\n",
    "    lcmNum = n*m // gcdNum\n",
    "    answer = [gcdNum,lcmNum]\n",
    "    return answer"
   ]
  },
  {
   "cell_type": "markdown",
   "id": "85fc2f2b",
   "metadata": {},
   "source": [
    "## 짝수와 홀수"
   ]
  },
  {
   "cell_type": "code",
   "execution_count": null,
   "id": "5fe1be0e",
   "metadata": {},
   "outputs": [],
   "source": [
    "def solution(num):\n",
    "    if(num%2==0):\n",
    "        return 'Even'\n",
    "    else:\n",
    "        return 'Odd'"
   ]
  },
  {
   "cell_type": "markdown",
   "id": "f989d49a",
   "metadata": {},
   "source": [
    "## 제일 작은 수 제거하기"
   ]
  },
  {
   "cell_type": "code",
   "execution_count": null,
   "id": "9120b5f3",
   "metadata": {},
   "outputs": [],
   "source": [
    "import numpy as np\n",
    "\n",
    "def solution(arr):\n",
    "    a = np.array(arr)\n",
    "    minimum = np.min(a)\n",
    "    for item in arr:\n",
    "        if item == minimum:\n",
    "            arr.remove(minimum)   \n",
    "    if(len(arr)==0):\n",
    "        return [-1]\n",
    "    else:\n",
    "        return arr\n",
    "\n",
    "solution([10])"
   ]
  },
  {
   "cell_type": "markdown",
   "id": "a1991b5e",
   "metadata": {},
   "source": [
    "## 정수 제곱근 판별"
   ]
  },
  {
   "cell_type": "code",
   "execution_count": null,
   "id": "1b0e1283",
   "metadata": {},
   "outputs": [],
   "source": [
    "def solution(n):\n",
    "    a = n**0.5\n",
    "    if(a%1==0):\n",
    "        return int(((n**0.5)+1)**2)\n",
    "    else:\n",
    "        return -1\n",
    "\n",
    "solution(3)"
   ]
  },
  {
   "cell_type": "markdown",
   "id": "08480525",
   "metadata": {},
   "source": [
    "## 정수 내림차순으로 배치하기"
   ]
  },
  {
   "cell_type": "code",
   "execution_count": null,
   "id": "7b08625c",
   "metadata": {},
   "outputs": [],
   "source": [
    "def solution(n):\n",
    "    s = list(str(int(n)))\n",
    "    s.sort(reverse=True)\n",
    "    return (int(''.join(s)))\n",
    "solution(123412)"
   ]
  },
  {
   "cell_type": "markdown",
   "id": "6524258c",
   "metadata": {},
   "source": [
    "## 자연수 뒤집어 배열로 만들기\n"
   ]
  },
  {
   "cell_type": "code",
   "execution_count": null,
   "id": "c21ad461",
   "metadata": {},
   "outputs": [],
   "source": [
    "def solution(n):\n",
    "    s = str(n)[::-1]\n",
    "    return list(map(int,s))\n",
    "solution(12345)"
   ]
  },
  {
   "cell_type": "markdown",
   "id": "9767b0c4",
   "metadata": {},
   "source": [
    "## 자릿수 더하기"
   ]
  },
  {
   "cell_type": "code",
   "execution_count": null,
   "id": "5d5130bd",
   "metadata": {},
   "outputs": [],
   "source": [
    "def solution(n):\n",
    "    s = list(str(n))\n",
    "    return sum(list(map(int,s)))\n",
    "solution(123)"
   ]
  },
  {
   "cell_type": "markdown",
   "id": "7134e94d",
   "metadata": {},
   "source": [
    "## 이상한 문자 만들기"
   ]
  },
  {
   "cell_type": "code",
   "execution_count": null,
   "id": "1c9218a1",
   "metadata": {},
   "outputs": [],
   "source": [
    "def solution(s):\n",
    "    a = s.split(' ')\n",
    "    \n",
    "    for i in range(len(a)):\n",
    "        item = list(a[i])\n",
    "        for j in range(len(item)):\n",
    "            if j%2 == 0 :\n",
    "                item[j] = item[j].upper()\n",
    "            else:\n",
    "                item[j] = item[j].lower()\n",
    "        a[i] = ''.join(item)\n",
    "        \n",
    "    return \" \".join(a)\n",
    "\n",
    "solution(\"asdj ajaskdj a\")\n"
   ]
  },
  {
   "cell_type": "markdown",
   "id": "3599510f",
   "metadata": {},
   "source": [
    "## 약수의 합"
   ]
  },
  {
   "cell_type": "code",
   "execution_count": null,
   "id": "067269fd",
   "metadata": {},
   "outputs": [],
   "source": [
    "def solution(n):\n",
    "    divisor = []\n",
    "    for i in range(1, n+1):\n",
    "        if n % i == 0:\n",
    "            divisor.append(i)\n",
    "    return sum(divisor)\n",
    "\n",
    "solution(23)"
   ]
  },
  {
   "cell_type": "markdown",
   "id": "79b44e9d",
   "metadata": {},
   "source": [
    "## 시저 암호"
   ]
  },
  {
   "cell_type": "code",
   "execution_count": null,
   "id": "9f12c992",
   "metadata": {},
   "outputs": [],
   "source": [
    "from string import ascii_lowercase as lower\n",
    "from string import ascii_uppercase as upper\n",
    "def solution(s, n):\n",
    "    \n",
    "    s = list(s)\n",
    "    s_l = list(lower)\n",
    "    s_u = list(upper)\n",
    "    answer = []\n",
    "    \n",
    "    for i in s:\n",
    "        if i in s_l:\n",
    "            m = s_l.index(i)+n\n",
    "            if(m > 25):\n",
    "                answer.append(s_l[m-26])\n",
    "            else:\n",
    "                answer.append(s_l[m])\n",
    "        elif i in s_u:\n",
    "            m = s_u.index(i)+n\n",
    "            if(m > 25):\n",
    "                answer.append(s_u[m-26])\n",
    "            else:\n",
    "                answer.append(s_u[m])\n",
    "        else:\n",
    "            answer.append(i)\n",
    "    return ''.join(answer)"
   ]
  },
  {
   "cell_type": "markdown",
   "id": "e306cdba",
   "metadata": {},
   "source": [
    "## 문자열을 정수로 바꾸기"
   ]
  },
  {
   "cell_type": "code",
   "execution_count": null,
   "id": "18790a58",
   "metadata": {},
   "outputs": [],
   "source": [
    "def solution(s):\n",
    "    if(s[0] == '+'):\n",
    "        return int(s[1:])\n",
    "    elif(s[0] == '-'):\n",
    "        return int(s[1:])*(-1)\n",
    "    else:\n",
    "        return int(s)\n",
    "solution(\"-1234\")"
   ]
  },
  {
   "cell_type": "markdown",
   "id": "c917e4b5",
   "metadata": {},
   "source": [
    "## 수박수박수박수박수박수?"
   ]
  },
  {
   "cell_type": "code",
   "execution_count": null,
   "id": "d7e69022",
   "metadata": {},
   "outputs": [],
   "source": [
    "def solution(n):\n",
    "    answer = ''\n",
    "    for i in range(n):\n",
    "        if (i+1)%2 !=0 :\n",
    "            answer = answer + '수'\n",
    "        else:\n",
    "            answer = answer + '박'\n",
    "    return answer\n",
    "solution(4)"
   ]
  },
  {
   "cell_type": "markdown",
   "id": "04d9011c",
   "metadata": {},
   "source": [
    "## 소수 찾기"
   ]
  },
  {
   "cell_type": "code",
   "execution_count": null,
   "id": "194be938",
   "metadata": {},
   "outputs": [],
   "source": [
    "import math\n",
    "\n",
    "def is_prime(n):\n",
    "    for i in range(2,int(math.sqrt(n))+1):\n",
    "        if n% i == 0:\n",
    "            return False\n",
    "    return True\n",
    "\n",
    "def solution(n):\n",
    "    answer = 0\n",
    "    for i in range(2, n+1):\n",
    "        if(is_prime(i)):\n",
    "            answer = answer+ 1\n",
    "    \n",
    "    return answer\n",
    "\n",
    "solution(10)"
   ]
  },
  {
   "cell_type": "markdown",
   "id": "edf2c04a",
   "metadata": {},
   "source": [
    "## 서울에서 김서방 찾기"
   ]
  },
  {
   "cell_type": "code",
   "execution_count": null,
   "id": "1b7c7781",
   "metadata": {},
   "outputs": [],
   "source": [
    "def solution(seoul):\n",
    "    answer = seoul.index(\"Kim\")\n",
    "    return \"김서방은 \"+str(answer)+\"에 있다\"\n",
    "solution([\"Jane\", \"Kim\"])"
   ]
  },
  {
   "cell_type": "markdown",
   "id": "036f12a9",
   "metadata": {},
   "source": [
    "## 문자열 다루기"
   ]
  },
  {
   "cell_type": "code",
   "execution_count": null,
   "id": "60d7715b",
   "metadata": {},
   "outputs": [],
   "source": [
    "def solution(s):\n",
    "    if len(s) == 4 or len(s) == 6:\n",
    "        try:\n",
    "            int(s)\n",
    "            return True\n",
    "        except:\n",
    "            return False\n",
    "    return False\n",
    "\n",
    "solution(\"a23456\")"
   ]
  },
  {
   "cell_type": "markdown",
   "id": "6fcf97f3",
   "metadata": {},
   "source": [
    "## 문자열 내림차순으로 배치하기"
   ]
  },
  {
   "cell_type": "code",
   "execution_count": null,
   "id": "387a729e",
   "metadata": {},
   "outputs": [],
   "source": [
    "def solution(s):\n",
    "    s= list(s)\n",
    "    s.sort(reverse=True)\n",
    "    return ''.join(s)\n",
    "\n",
    "solution(\"Zbcdefg\")"
   ]
  },
  {
   "cell_type": "markdown",
   "id": "35b388c7",
   "metadata": {},
   "source": [
    "## 문자열 내 마음대로 정렬하기"
   ]
  },
  {
   "cell_type": "code",
   "execution_count": null,
   "id": "2b9a7fa5",
   "metadata": {},
   "outputs": [],
   "source": [
    "import numpy as np\n",
    "def solution(strings, n):\n",
    "    pr = []\n",
    "    for i  in strings:\n",
    "        pr.append([i[n],i])\n",
    "    pr.sort()\n",
    "    pr = np.array(pr)\n",
    "    return list(pr[:,1])\n",
    "\n",
    "solution([\"abce\", \"abcd\", \"cdx\"],2)"
   ]
  },
  {
   "cell_type": "markdown",
   "id": "730bc48b",
   "metadata": {},
   "source": [
    "## 문자열 내 p와 y의 개수"
   ]
  },
  {
   "cell_type": "code",
   "execution_count": null,
   "id": "0f44a616",
   "metadata": {},
   "outputs": [],
   "source": [
    "def solution(s):\n",
    "    s = list(s.lower())\n",
    "    pn = s.count('p')\n",
    "    yn = s.count('y')\n",
    "    if pn == yn :\n",
    "        return True\n",
    "    else:\n",
    "        return False\n",
    "solution(\"PPyy\")"
   ]
  },
  {
   "cell_type": "markdown",
   "id": "8878b441",
   "metadata": {},
   "source": [
    "## 두 정수 사이의 합"
   ]
  },
  {
   "cell_type": "code",
   "execution_count": null,
   "id": "f0bb8508",
   "metadata": {},
   "outputs": [],
   "source": [
    "def solution(a, b):\n",
    "    if a<=b :\n",
    "        a = list(range(a,b+1))\n",
    "    else:\n",
    "        a = list(range(b,a+1))\n",
    "    answer = sum(a)\n",
    "    return answer\n",
    "solution(5,3)"
   ]
  },
  {
   "cell_type": "markdown",
   "id": "46eb732f",
   "metadata": {},
   "source": [
    "## 나누어 떨어지는 숫자 배열"
   ]
  },
  {
   "cell_type": "code",
   "execution_count": null,
   "id": "2c768304",
   "metadata": {},
   "outputs": [],
   "source": [
    "def solution(arr, divisor):\n",
    "    answer = []\n",
    "    \n",
    "    for n in arr:\n",
    "        if n%divisor == 0:\n",
    "            answer.append(n)\n",
    "    \n",
    "    if(len(answer)==0):\n",
    "        return [-1]\n",
    "    \n",
    "    answer.sort()\n",
    "    return answer\n",
    "\n",
    "solution([5, 9, 7, 10],5)"
   ]
  },
  {
   "cell_type": "markdown",
   "id": "40e92d2f",
   "metadata": {},
   "source": [
    "## 같은 숫자는 싫어"
   ]
  },
  {
   "cell_type": "code",
   "execution_count": null,
   "id": "625da0c3",
   "metadata": {},
   "outputs": [],
   "source": [
    "def solution(arr):\n",
    "    ans = [arr[0]]\n",
    "    \n",
    "    for i in range(1,len(arr)):\n",
    "        if ans[len(ans)-1] == arr[i]:\n",
    "            continue\n",
    "        ans.append(arr[i])\n",
    "    return ans\n",
    "\n",
    "solution([1,1,3,3,0,1,1])"
   ]
  },
  {
   "cell_type": "markdown",
   "id": "012d8216",
   "metadata": {},
   "source": [
    "## [1차] 다트 게임"
   ]
  },
  {
   "cell_type": "code",
   "execution_count": null,
   "id": "5c549f8d",
   "metadata": {},
   "outputs": [],
   "source": [
    "import re\n",
    "\n",
    "def solution(dartResult):\n",
    "    result_list = re.findall('[0-9]{1,2}[SDT][#*]?',dartResult)\n",
    "    total = 0\n",
    "    a =0\n",
    "    ans = [0,0,0]\n",
    "    for i in result_list:\n",
    "        tmp = re.findall('[0-9]{1,2}|[SDT]|[*#]',i)\n",
    "        num = int(tmp[0])\n",
    "     \n",
    "        if tmp[1] == 'D':\n",
    "            num = pow(num,2)\n",
    "        elif tmp[1] == 'T':\n",
    "            num = pow(num,3)\n",
    "        if '#' in tmp:\n",
    "            num = num * -1\n",
    "    \n",
    "        ans[a] = num\n",
    "    \n",
    "        if '*' in tmp:\n",
    "            if a == 0:\n",
    "                ans[0] = ans[0]*2 \n",
    "            elif a == 1:\n",
    "                ans[0] = ans[0] *2\n",
    "                ans[1] = ans[1] *2\n",
    "            elif a == 2:\n",
    "                ans[1] = ans[1] *2\n",
    "                ans[2] = ans[2] *2\n",
    "        a = a+1\n",
    "    return sum(ans)\n",
    "\n",
    "solution(\"1D 2S 3T*\")"
   ]
  },
  {
   "cell_type": "markdown",
   "id": "c00b5262",
   "metadata": {},
   "source": [
    "## 가운데 글자 가져오기"
   ]
  },
  {
   "cell_type": "code",
   "execution_count": null,
   "id": "14962b1f",
   "metadata": {},
   "outputs": [],
   "source": [
    "def solution(s):\n",
    "    length = len(s)\n",
    "    if length % 2 == 0:\n",
    "        return s[(length//2)-1:(length//2)+1]\n",
    "    else:\n",
    "        return s[length//2]\n",
    "\n",
    "solution(\"abcdee\")"
   ]
  },
  {
   "cell_type": "markdown",
   "id": "238e52c1",
   "metadata": {},
   "source": [
    "## [1차] 비밀지도"
   ]
  },
  {
   "cell_type": "code",
   "execution_count": null,
   "id": "d01acb09",
   "metadata": {},
   "outputs": [],
   "source": [
    "def solution(n, arr1, arr2):\n",
    "    b_arr = []\n",
    "    answer = []\n",
    "    for i in range(n):\n",
    "        tmp = (arr1[i] | arr2[i])\n",
    "        \n",
    "        b = format(tmp,'b')\n",
    "        \n",
    "        if len(b) != n:\n",
    "            dif = n - len(b)\n",
    "            b = ('0'*dif) + b \n",
    "            \n",
    "        b_arr.append(b)\n",
    "        \n",
    "    for i in b_arr:\n",
    "        i = i.replace(\"1\",\"#\")\n",
    "        i = i.replace(\"0\",\" \")\n",
    "        answer.append(i)\n",
    "        \n",
    "    return answer\n",
    "        \n",
    "solution(5,[9, 20, 28, 18, 11],\t[30, 1, 21, 17, 28])"
   ]
  },
  {
   "cell_type": "markdown",
   "id": "727a9af0",
   "metadata": {},
   "source": [
    "## 부족한 금액 계산하기"
   ]
  },
  {
   "cell_type": "code",
   "execution_count": null,
   "id": "301c52d6",
   "metadata": {},
   "outputs": [],
   "source": [
    "def solution(price, money, count):\n",
    "    total = 0 \n",
    "    for i in range(price, price*count+1, price):\n",
    "        total = total + i\n",
    "    \n",
    "    if total > money:\n",
    "        return total - money\n",
    "    else:\n",
    "        return 0\n"
   ]
  },
  {
   "cell_type": "markdown",
   "id": "b4f51c78",
   "metadata": {},
   "source": [
    "## 나머지가 1이 되는 수 찾기"
   ]
  },
  {
   "cell_type": "code",
   "execution_count": null,
   "id": "b8dbc927",
   "metadata": {},
   "outputs": [],
   "source": [
    "def solution(n):\n",
    "    for i in range(2, n):\n",
    "        if n % i == 1:\n",
    "            return i\n",
    "\n",
    "solution(5)"
   ]
  },
  {
   "cell_type": "markdown",
   "id": "42f10e26",
   "metadata": {},
   "source": [
    "## 최소직사각형"
   ]
  },
  {
   "cell_type": "code",
   "execution_count": null,
   "id": "f688c063",
   "metadata": {},
   "outputs": [],
   "source": [
    "def solution(sizes):\n",
    "\n",
    "    hor = []\n",
    "    verti = []\n",
    "    \n",
    "    for l in sizes:\n",
    "        hor.append(max(l))\n",
    "        verti.append(min(l))\n",
    "     \n",
    "\n",
    "    return max(hor) * max(verti)\n",
    "\n",
    "solution([[60, 50], [30, 70], [60, 30], [80, 40]])"
   ]
  },
  {
   "cell_type": "markdown",
   "id": "4dcf6904",
   "metadata": {},
   "source": [
    "## 2016"
   ]
  },
  {
   "cell_type": "code",
   "execution_count": null,
   "id": "4845ebb5",
   "metadata": {},
   "outputs": [],
   "source": [
    "import calendar\n",
    "\n",
    "def solution(a, b):\n",
    "    work_list = [\"MON\",\"TUE\",\"WED\",\"THU\",\"FRI\",\"SAT\",\"SUN\"]\n",
    "    answer = work_list[calendar.weekday(2016,a,b)]\n",
    "    return answer\n",
    "\n",
    "solution(5,24)"
   ]
  },
  {
   "cell_type": "markdown",
   "id": "21cf4bb5",
   "metadata": {},
   "source": [
    "## 두 개 뽑아서 더하기"
   ]
  },
  {
   "cell_type": "code",
   "execution_count": null,
   "id": "399d4bf8",
   "metadata": {},
   "outputs": [],
   "source": [
    "def solution(numbers):\n",
    "    numbers.sort()\n",
    "    ans = []\n",
    "    for i in range(len(numbers)-1):\n",
    "        for j in range(i+1, len(numbers)):\n",
    "            ans.append(numbers[i] + numbers[j])\n",
    "    \n",
    "    return sorted(list(set(ans))) ## 음수 -> 양수 순서\n",
    "\n",
    "solution([5,0,2,7])"
   ]
  },
  {
   "cell_type": "markdown",
   "id": "28d82122",
   "metadata": {},
   "source": [
    "## 예산"
   ]
  },
  {
   "cell_type": "code",
   "execution_count": null,
   "id": "07b2f08a",
   "metadata": {},
   "outputs": [],
   "source": [
    "def solution(d, budget):\n",
    "    d = sorted(d)\n",
    "    count = 0\n",
    "    for i in d:\n",
    "        budget -= i\n",
    "        if budget < 0:\n",
    "            break\n",
    "        count += 1\n",
    "w    return count\n",
    "\n",
    "solution([1,3,2,5,4],9)"
   ]
  },
  {
   "cell_type": "markdown",
   "id": "8cf4cd84",
   "metadata": {},
   "source": [
    "## 3진법 뒤집기"
   ]
  },
  {
   "cell_type": "code",
   "execution_count": 1,
   "id": "1fcc2181",
   "metadata": {},
   "outputs": [
    {
     "data": {
      "text/plain": [
       "7"
      ]
     },
     "execution_count": 1,
     "metadata": {},
     "output_type": "execute_result"
    }
   ],
   "source": [
    "def solution(n):\n",
    "    m = []\n",
    "    sum = 0\n",
    "    \n",
    "    while n >0:\n",
    "        m.append(n%3)\n",
    "        n //=3\n",
    "    \n",
    "    for i in range(len(m)):\n",
    "        sum += m[i] * pow(3,len(m)-1-i)\n",
    "    \n",
    "    return sum\n",
    "\n",
    "solution(45)"
   ]
  },
  {
   "cell_type": "markdown",
   "id": "ec4a5328",
   "metadata": {},
   "source": [
    "## 약수의 개수와 덧셈"
   ]
  },
  {
   "cell_type": "code",
   "execution_count": 23,
   "id": "918f44cc",
   "metadata": {},
   "outputs": [
    {
     "name": "stdout",
     "output_type": "stream",
     "text": [
      "13\n",
      "14\n",
      "15\n",
      "-16\n",
      "17\n"
     ]
    },
    {
     "data": {
      "text/plain": [
       "43"
      ]
     },
     "execution_count": 23,
     "metadata": {},
     "output_type": "execute_result"
    }
   ],
   "source": [
    "def solution(left, right):\n",
    "    answer = []\n",
    "    for i in range(left, right+1):\n",
    "        a = count(i)\n",
    "        answer.append(a)\n",
    "        \n",
    "    return sum(answer)\n",
    "\n",
    "def count(n):\n",
    "    count = 0\n",
    "    for i in range(1,n+1):\n",
    "        if n%i ==0:\n",
    "            count += 1\n",
    "    \n",
    "    if count % 2== 0:\n",
    "        return n\n",
    "    else:\n",
    "        return -1*n\n",
    "    \n",
    "solution(13,17)"
   ]
  }
 ],
 "metadata": {
  "kernelspec": {
   "display_name": "Python 3 (ipykernel)",
   "language": "python",
   "name": "python3"
  },
  "language_info": {
   "codemirror_mode": {
    "name": "ipython",
    "version": 3
   },
   "file_extension": ".py",
   "mimetype": "text/x-python",
   "name": "python",
   "nbconvert_exporter": "python",
   "pygments_lexer": "ipython3",
   "version": "3.9.7"
  }
 },
 "nbformat": 4,
 "nbformat_minor": 5
}
