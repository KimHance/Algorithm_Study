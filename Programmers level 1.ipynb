{
 "cells": [
  {
   "cell_type": "markdown",
   "id": "ed1332ac",
   "metadata": {},
   "source": [
    "## 직사각형 별찍기"
   ]
  },
  {
   "cell_type": "code",
   "execution_count": 1,
   "id": "fe36b236",
   "metadata": {},
   "outputs": [
    {
     "name": "stdout",
     "output_type": "stream",
     "text": [
      "5 3\n",
      "*****\n",
      "*****\n",
      "*****\n",
      "\n"
     ]
    }
   ],
   "source": [
    "a, b = map(int, input().strip().split(' '))\n",
    "s = ('*'*a +'\\n')*b\n",
    "print(s)"
   ]
  },
  {
   "cell_type": "markdown",
   "id": "f300b878",
   "metadata": {},
   "source": [
    "## x만큼 간격이 있는 n개의 숫자"
   ]
  },
  {
   "cell_type": "code",
   "execution_count": 5,
   "id": "3338f19e",
   "metadata": {},
   "outputs": [
    {
     "data": {
      "text/plain": [
       "[2, 4, 6, 8, 10]"
      ]
     },
     "execution_count": 5,
     "metadata": {},
     "output_type": "execute_result"
    }
   ],
   "source": [
    "def solution(x, n):\n",
    "    answer = []\n",
    "    for i in range(n):\n",
    "        answer.append((i+1)*x)\n",
    "    return answer\n",
    "solution(2,5)"
   ]
  },
  {
   "cell_type": "markdown",
   "id": "c4ebbcec",
   "metadata": {},
   "source": [
    "## 행렬의 덧셈"
   ]
  },
  {
   "cell_type": "code",
   "execution_count": 10,
   "id": "cf278a25",
   "metadata": {},
   "outputs": [
    {
     "data": {
      "text/plain": [
       "[[4, 6], [7, 9]]"
      ]
     },
     "execution_count": 10,
     "metadata": {},
     "output_type": "execute_result"
    }
   ],
   "source": [
    "import numpy as np\n",
    "def solution(arr1, arr2):\n",
    "    arr1= np.array(arr1)\n",
    "    arr2= np.array(arr2)\n",
    "    answer = arr1+arr2\n",
    "    return answer.tolist()\n",
    "solution([[1,2],[2,3]],[[3,4],[5,6]])"
   ]
  },
  {
   "cell_type": "markdown",
   "id": "37479c15",
   "metadata": {},
   "source": [
    "## 핸드폰 번호 가리기"
   ]
  },
  {
   "cell_type": "code",
   "execution_count": 20,
   "id": "bf50c789",
   "metadata": {},
   "outputs": [
    {
     "data": {
      "text/plain": [
       "'******7890'"
      ]
     },
     "execution_count": 20,
     "metadata": {},
     "output_type": "execute_result"
    }
   ],
   "source": [
    "def solution(phone_number):\n",
    "    l = len(phone_number[:-4])\n",
    "    answer = ('*'*l)+phone_number[l:]\n",
    "    return answer\n",
    "solution('1234567890')"
   ]
  },
  {
   "cell_type": "markdown",
   "id": "9e2612da",
   "metadata": {},
   "source": [
    "## 하샤드 수"
   ]
  },
  {
   "cell_type": "code",
   "execution_count": 34,
   "id": "818c55a7",
   "metadata": {},
   "outputs": [
    {
     "data": {
      "text/plain": [
       "False"
      ]
     },
     "execution_count": 34,
     "metadata": {},
     "output_type": "execute_result"
    }
   ],
   "source": [
    "def solution(x):\n",
    "    a = str(x)\n",
    "    sum = 0\n",
    "    for i in range(len(a)):\n",
    "        sum = sum + int(a[i])\n",
    "    if(x%sum == 0 ):\n",
    "        return True\n",
    "    else:\n",
    "        return False\n",
    "    \n",
    "solution(13)"
   ]
  },
  {
   "cell_type": "markdown",
   "id": "7462096d",
   "metadata": {},
   "source": [
    "## 콜라츠 추측"
   ]
  },
  {
   "cell_type": "code",
   "execution_count": 39,
   "id": "c79317c3",
   "metadata": {},
   "outputs": [
    {
     "data": {
      "text/plain": [
       "4"
      ]
     },
     "execution_count": 39,
     "metadata": {},
     "output_type": "execute_result"
    }
   ],
   "source": [
    "def solution(num):\n",
    "    answer = 0\n",
    "    while num !=1 :\n",
    "        if(num%2==0):\n",
    "            num = num/2\n",
    "            answer = answer + 1\n",
    "            if(answer>500):\n",
    "                return -1\n",
    "        else:\n",
    "            num = num*3 +1\n",
    "            answer = answer + 1\n",
    "            if(answer>500):\n",
    "                return -1\n",
    "    return answer\n",
    "\n",
    "solution(16)"
   ]
  },
  {
   "cell_type": "markdown",
   "id": "19d5ef6b",
   "metadata": {},
   "source": [
    "## 평균 구하기"
   ]
  },
  {
   "cell_type": "code",
   "execution_count": 40,
   "id": "57dd2a09",
   "metadata": {},
   "outputs": [],
   "source": [
    "import numpy as np\n",
    "\n",
    "def solution(arr):\n",
    "    answer = np.mean(arr)\n",
    "    return answer"
   ]
  },
  {
   "cell_type": "markdown",
   "id": "f8cfe159",
   "metadata": {},
   "source": [
    "## 최대공약수와 최소공배수"
   ]
  },
  {
   "cell_type": "code",
   "execution_count": 42,
   "id": "fbdba992",
   "metadata": {},
   "outputs": [],
   "source": [
    "from math import gcd\n",
    "\n",
    "def solution(n, m):\n",
    "    gcdNum = gcd(n,m)\n",
    "    lcmNum = n*m // gcdNum\n",
    "    answer = [gcdNum,lcmNum]\n",
    "    return answer"
   ]
  },
  {
   "cell_type": "markdown",
   "id": "d878f782",
   "metadata": {},
   "source": [
    "## 짝수와 홀수"
   ]
  },
  {
   "cell_type": "code",
   "execution_count": 43,
   "id": "4f437413",
   "metadata": {},
   "outputs": [],
   "source": [
    "def solution(num):\n",
    "    if(num%2==0):\n",
    "        return 'Even'\n",
    "    else:\n",
    "        return 'Odd'"
   ]
  },
  {
   "cell_type": "markdown",
   "id": "3a9434a6",
   "metadata": {},
   "source": [
    "## 제일 작은 수 제거하기"
   ]
  },
  {
   "cell_type": "code",
   "execution_count": 54,
   "id": "b8946a05",
   "metadata": {},
   "outputs": [
    {
     "data": {
      "text/plain": [
       "[-1]"
      ]
     },
     "execution_count": 54,
     "metadata": {},
     "output_type": "execute_result"
    }
   ],
   "source": [
    "import numpy as np\n",
    "\n",
    "def solution(arr):\n",
    "    a = np.array(arr)\n",
    "    minimum = np.min(a)\n",
    "    for item in arr:\n",
    "        if item == minimum:\n",
    "            arr.remove(minimum)   \n",
    "    if(len(arr)==0):\n",
    "        return [-1]\n",
    "    else:\n",
    "        return arr\n",
    "\n",
    "solution([10])"
   ]
  },
  {
   "cell_type": "markdown",
   "id": "dc1917ab",
   "metadata": {},
   "source": [
    "## 정수 제곱근 판별"
   ]
  },
  {
   "cell_type": "code",
   "execution_count": 67,
   "id": "1e25b553",
   "metadata": {},
   "outputs": [
    {
     "data": {
      "text/plain": [
       "-1"
      ]
     },
     "execution_count": 67,
     "metadata": {},
     "output_type": "execute_result"
    }
   ],
   "source": [
    "def solution(n):\n",
    "    a = n**0.5\n",
    "    if(a%1==0):\n",
    "        return int(((n**0.5)+1)**2)\n",
    "    else:\n",
    "        return -1\n",
    "\n",
    "solution(3)"
   ]
  },
  {
   "cell_type": "markdown",
   "id": "1408481d",
   "metadata": {},
   "source": [
    "## 정수 내림차순으로 배치하기"
   ]
  },
  {
   "cell_type": "code",
   "execution_count": 91,
   "id": "45f06198",
   "metadata": {},
   "outputs": [
    {
     "data": {
      "text/plain": [
       "432211"
      ]
     },
     "execution_count": 91,
     "metadata": {},
     "output_type": "execute_result"
    }
   ],
   "source": [
    "def solution(n):\n",
    "    s = list(str(int(n)))\n",
    "    s.sort(reverse=True)\n",
    "    return (int(''.join(s)))\n",
    "solution(123412)"
   ]
  },
  {
   "cell_type": "markdown",
   "id": "0b888d37",
   "metadata": {},
   "source": [
    "## 자연수 뒤집어 배열로 만들기\n"
   ]
  },
  {
   "cell_type": "code",
   "execution_count": 106,
   "id": "ef1d7a7e",
   "metadata": {},
   "outputs": [
    {
     "data": {
      "text/plain": [
       "[5, 4, 3, 2, 1]"
      ]
     },
     "execution_count": 106,
     "metadata": {},
     "output_type": "execute_result"
    }
   ],
   "source": [
    "def solution(n):\n",
    "    s = str(n)[::-1]\n",
    "    return list(map(int,s))\n",
    "solution(12345)"
   ]
  },
  {
   "cell_type": "markdown",
   "id": "919c7d8e",
   "metadata": {},
   "source": [
    "## 자릿수 더하기"
   ]
  },
  {
   "cell_type": "code",
   "execution_count": 117,
   "id": "1284ac50",
   "metadata": {},
   "outputs": [
    {
     "data": {
      "text/plain": [
       "6"
      ]
     },
     "execution_count": 117,
     "metadata": {},
     "output_type": "execute_result"
    }
   ],
   "source": [
    "def solution(n):\n",
    "    s = list(str(n))\n",
    "    return sum(list(map(int,s)))\n",
    "solution(123)"
   ]
  },
  {
   "cell_type": "markdown",
   "id": "4f9ed717",
   "metadata": {},
   "source": [
    "## 이상한 문자 만들기"
   ]
  },
  {
   "cell_type": "code",
   "execution_count": 123,
   "id": "682f0d0a",
   "metadata": {},
   "outputs": [
    {
     "data": {
      "text/plain": [
       "'AsDj AjAsKdJ A'"
      ]
     },
     "execution_count": 123,
     "metadata": {},
     "output_type": "execute_result"
    }
   ],
   "source": [
    "def solution(s):\n",
    "    a = s.split(' ')\n",
    "    \n",
    "    for i in range(len(a)):\n",
    "        item = list(a[i])\n",
    "        for j in range(len(item)):\n",
    "            if j%2 == 0 :\n",
    "                item[j] = item[j].upper()\n",
    "            else:\n",
    "                item[j] = item[j].lower()\n",
    "        a[i] = ''.join(item)\n",
    "        \n",
    "    return \" \".join(a)\n",
    "\n",
    "solution(\"asdj ajaskdj a\")\n"
   ]
  },
  {
   "cell_type": "code",
   "execution_count": null,
   "id": "812e1d64",
   "metadata": {},
   "outputs": [],
   "source": []
  }
 ],
 "metadata": {
  "kernelspec": {
   "display_name": "Python 3 (ipykernel)",
   "language": "python",
   "name": "python3"
  },
  "language_info": {
   "codemirror_mode": {
    "name": "ipython",
    "version": 3
   },
   "file_extension": ".py",
   "mimetype": "text/x-python",
   "name": "python",
   "nbconvert_exporter": "python",
   "pygments_lexer": "ipython3",
   "version": "3.9.7"
  }
 },
 "nbformat": 4,
 "nbformat_minor": 5
}
